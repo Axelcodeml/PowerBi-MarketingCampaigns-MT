{
 "cells": [
  {
   "cell_type": "markdown",
   "id": "63aa91b0",
   "metadata": {},
   "source": [
    "# Campañas de Electricidad Automotriz y EyP mes mayo junio 2023"
   ]
  },
  {
   "cell_type": "code",
   "execution_count": 64,
   "id": "eb4f54c4",
   "metadata": {},
   "outputs": [],
   "source": [
    "import numpy as np\n",
    "import pandas as pd\n",
    "import matplotlib.pyplot as plt\n",
    "import seaborn as sns"
   ]
  },
  {
   "cell_type": "code",
   "execution_count": 65,
   "id": "cc579433",
   "metadata": {},
   "outputs": [
    {
     "data": {
      "text/html": [
       "<div>\n",
       "<style scoped>\n",
       "    .dataframe tbody tr th:only-of-type {\n",
       "        vertical-align: middle;\n",
       "    }\n",
       "\n",
       "    .dataframe tbody tr th {\n",
       "        vertical-align: top;\n",
       "    }\n",
       "\n",
       "    .dataframe thead th {\n",
       "        text-align: right;\n",
       "    }\n",
       "</style>\n",
       "<table border=\"1\" class=\"dataframe\">\n",
       "  <thead>\n",
       "    <tr style=\"text-align: right;\">\n",
       "      <th></th>\n",
       "      <th>camp_id</th>\n",
       "      <th>segc_cliente</th>\n",
       "      <th>segc_telefono</th>\n",
       "      <th>segc_medio_informacion</th>\n",
       "      <th>segc_estado</th>\n",
       "      <th>segc_fecha_solicitud</th>\n",
       "      <th>segc_fecha_seguimiento</th>\n",
       "      <th>segc_ultimo_seguimiento</th>\n",
       "      <th>segc_motivo_curso</th>\n",
       "      <th>segc_motivos_no_matricula</th>\n",
       "      <th>segc_proxima_llamada</th>\n",
       "      <th>segc_ubicacion_llamada</th>\n",
       "      <th>segc_trabaja_en_area</th>\n",
       "    </tr>\n",
       "  </thead>\n",
       "  <tbody>\n",
       "    <tr>\n",
       "      <th>0</th>\n",
       "      <td>37</td>\n",
       "      <td>Stalin Lema</td>\n",
       "      <td>0986308318</td>\n",
       "      <td>MED02</td>\n",
       "      <td>CONTAC01</td>\n",
       "      <td>2023-06-20</td>\n",
       "      <td>2023-06-22</td>\n",
       "      <td>no contesta</td>\n",
       "      <td>NaN</td>\n",
       "      <td>NaN</td>\n",
       "      <td>NaN</td>\n",
       "      <td>NaN</td>\n",
       "      <td>False</td>\n",
       "    </tr>\n",
       "    <tr>\n",
       "      <th>1</th>\n",
       "      <td>37</td>\n",
       "      <td>Alexis Armas</td>\n",
       "      <td>0992897963</td>\n",
       "      <td>MED02</td>\n",
       "      <td>CONTAC01</td>\n",
       "      <td>2023-06-20</td>\n",
       "      <td>2023-07-06</td>\n",
       "      <td>no contesta</td>\n",
       "      <td>PAQ01</td>\n",
       "      <td>NaN</td>\n",
       "      <td>NaN</td>\n",
       "      <td>NaN</td>\n",
       "      <td>False</td>\n",
       "    </tr>\n",
       "    <tr>\n",
       "      <th>2</th>\n",
       "      <td>37</td>\n",
       "      <td>Joffre Pico</td>\n",
       "      <td>0990570944</td>\n",
       "      <td>MED02</td>\n",
       "      <td>CONTAC03</td>\n",
       "      <td>2023-06-20</td>\n",
       "      <td>2023-07-15</td>\n",
       "      <td>Pago 70 TBI el 14 julio</td>\n",
       "      <td>PAQ01</td>\n",
       "      <td>Certificaci�n</td>\n",
       "      <td>NaN</td>\n",
       "      <td>UDOM05</td>\n",
       "      <td>True</td>\n",
       "    </tr>\n",
       "  </tbody>\n",
       "</table>\n",
       "</div>"
      ],
      "text/plain": [
       "   camp_id  segc_cliente segc_telefono segc_medio_informacion segc_estado  \\\n",
       "0       37   Stalin Lema    0986308318                  MED02    CONTAC01   \n",
       "1       37  Alexis Armas    0992897963                  MED02    CONTAC01   \n",
       "2       37   Joffre Pico    0990570944                  MED02    CONTAC03   \n",
       "\n",
       "  segc_fecha_solicitud segc_fecha_seguimiento  segc_ultimo_seguimiento  \\\n",
       "0           2023-06-20             2023-06-22              no contesta   \n",
       "1           2023-06-20             2023-07-06              no contesta   \n",
       "2           2023-06-20             2023-07-15  Pago 70 TBI el 14 julio   \n",
       "\n",
       "  segc_motivo_curso segc_motivos_no_matricula segc_proxima_llamada  \\\n",
       "0               NaN                       NaN                  NaN   \n",
       "1             PAQ01                       NaN                  NaN   \n",
       "2             PAQ01             Certificaci�n                  NaN   \n",
       "\n",
       "  segc_ubicacion_llamada  segc_trabaja_en_area  \n",
       "0                    NaN                 False  \n",
       "1                    NaN                 False  \n",
       "2                 UDOM05                  True  "
      ]
     },
     "execution_count": 65,
     "metadata": {},
     "output_type": "execute_result"
    }
   ],
   "source": [
    "df=pd.read_csv(\"camp_ea_ps_mot_fib_may_jun-2023.csv\")\n",
    "df.head(3)"
   ]
  },
  {
   "cell_type": "code",
   "execution_count": 66,
   "id": "c331dab7",
   "metadata": {},
   "outputs": [
    {
     "data": {
      "text/html": [
       "<div>\n",
       "<style scoped>\n",
       "    .dataframe tbody tr th:only-of-type {\n",
       "        vertical-align: middle;\n",
       "    }\n",
       "\n",
       "    .dataframe tbody tr th {\n",
       "        vertical-align: top;\n",
       "    }\n",
       "\n",
       "    .dataframe thead th {\n",
       "        text-align: right;\n",
       "    }\n",
       "</style>\n",
       "<table border=\"1\" class=\"dataframe\">\n",
       "  <thead>\n",
       "    <tr style=\"text-align: right;\">\n",
       "      <th></th>\n",
       "      <th>camp_id</th>\n",
       "      <th>segc_cliente</th>\n",
       "      <th>segc_telefono</th>\n",
       "      <th>segc_medio_informacion</th>\n",
       "      <th>segc_estado</th>\n",
       "      <th>segc_fecha_solicitud</th>\n",
       "      <th>segc_fecha_seguimiento</th>\n",
       "      <th>segc_ultimo_seguimiento</th>\n",
       "      <th>segc_motivo_curso</th>\n",
       "      <th>segc_motivos_no_matricula</th>\n",
       "      <th>segc_proxima_llamada</th>\n",
       "      <th>segc_ubicacion_llamada</th>\n",
       "      <th>segc_trabaja_en_area</th>\n",
       "    </tr>\n",
       "  </thead>\n",
       "  <tbody>\n",
       "    <tr>\n",
       "      <th>236</th>\n",
       "      <td>40</td>\n",
       "      <td>Luis Paucar</td>\n",
       "      <td>+593983140744</td>\n",
       "      <td>MED02</td>\n",
       "      <td>CONTAC04</td>\n",
       "      <td>2023-07-30</td>\n",
       "      <td>2023-07-31</td>\n",
       "      <td>Esperando confirmación.</td>\n",
       "      <td>NaN</td>\n",
       "      <td>NaN</td>\n",
       "      <td>NaN</td>\n",
       "      <td>NaN</td>\n",
       "      <td>False</td>\n",
       "    </tr>\n",
       "    <tr>\n",
       "      <th>237</th>\n",
       "      <td>40</td>\n",
       "      <td>Willian Hernan Visvicus Riofrio</td>\n",
       "      <td>+593987973342</td>\n",
       "      <td>MED02</td>\n",
       "      <td>CONTAC01</td>\n",
       "      <td>2023-07-30</td>\n",
       "      <td>2023-07-31</td>\n",
       "      <td>No contesta 1ra llamada.</td>\n",
       "      <td>NaN</td>\n",
       "      <td>NaN</td>\n",
       "      <td>NaN</td>\n",
       "      <td>NaN</td>\n",
       "      <td>False</td>\n",
       "    </tr>\n",
       "    <tr>\n",
       "      <th>238</th>\n",
       "      <td>40</td>\n",
       "      <td>Mario Orbe</td>\n",
       "      <td>+593992504303</td>\n",
       "      <td>MED02</td>\n",
       "      <td>CONTAC01</td>\n",
       "      <td>2023-07-30</td>\n",
       "      <td>2023-07-30</td>\n",
       "      <td>Info enviada</td>\n",
       "      <td>NaN</td>\n",
       "      <td>NaN</td>\n",
       "      <td>NaN</td>\n",
       "      <td>NaN</td>\n",
       "      <td>False</td>\n",
       "    </tr>\n",
       "  </tbody>\n",
       "</table>\n",
       "</div>"
      ],
      "text/plain": [
       "     camp_id                     segc_cliente  segc_telefono  \\\n",
       "236       40                      Luis Paucar  +593983140744   \n",
       "237       40  Willian Hernan Visvicus Riofrio  +593987973342   \n",
       "238       40                       Mario Orbe  +593992504303   \n",
       "\n",
       "    segc_medio_informacion segc_estado segc_fecha_solicitud  \\\n",
       "236                  MED02    CONTAC04           2023-07-30   \n",
       "237                  MED02    CONTAC01           2023-07-30   \n",
       "238                  MED02    CONTAC01           2023-07-30   \n",
       "\n",
       "    segc_fecha_seguimiento   segc_ultimo_seguimiento segc_motivo_curso  \\\n",
       "236             2023-07-31   Esperando confirmación.               NaN   \n",
       "237             2023-07-31  No contesta 1ra llamada.               NaN   \n",
       "238             2023-07-30              Info enviada               NaN   \n",
       "\n",
       "    segc_motivos_no_matricula segc_proxima_llamada segc_ubicacion_llamada  \\\n",
       "236                       NaN                  NaN                    NaN   \n",
       "237                       NaN                  NaN                    NaN   \n",
       "238                       NaN                  NaN                    NaN   \n",
       "\n",
       "     segc_trabaja_en_area  \n",
       "236                 False  \n",
       "237                 False  \n",
       "238                 False  "
      ]
     },
     "execution_count": 66,
     "metadata": {},
     "output_type": "execute_result"
    }
   ],
   "source": [
    "df.tail(3)"
   ]
  },
  {
   "cell_type": "code",
   "execution_count": 67,
   "id": "c42e055c",
   "metadata": {},
   "outputs": [
    {
     "data": {
      "text/plain": [
       "(239, 13)"
      ]
     },
     "execution_count": 67,
     "metadata": {},
     "output_type": "execute_result"
    }
   ],
   "source": [
    "df.shape"
   ]
  },
  {
   "cell_type": "code",
   "execution_count": 68,
   "id": "68fa5e1b",
   "metadata": {
    "scrolled": true
   },
   "outputs": [
    {
     "name": "stdout",
     "output_type": "stream",
     "text": [
      "<class 'pandas.core.frame.DataFrame'>\n",
      "RangeIndex: 239 entries, 0 to 238\n",
      "Data columns (total 13 columns):\n",
      " #   Column                     Non-Null Count  Dtype \n",
      "---  ------                     --------------  ----- \n",
      " 0   camp_id                    239 non-null    int64 \n",
      " 1   segc_cliente               239 non-null    object\n",
      " 2   segc_telefono              239 non-null    object\n",
      " 3   segc_medio_informacion     239 non-null    object\n",
      " 4   segc_estado                239 non-null    object\n",
      " 5   segc_fecha_solicitud       239 non-null    object\n",
      " 6   segc_fecha_seguimiento     239 non-null    object\n",
      " 7   segc_ultimo_seguimiento    239 non-null    object\n",
      " 8   segc_motivo_curso          33 non-null     object\n",
      " 9   segc_motivos_no_matricula  34 non-null     object\n",
      " 10  segc_proxima_llamada       23 non-null     object\n",
      " 11  segc_ubicacion_llamada     2 non-null      object\n",
      " 12  segc_trabaja_en_area       239 non-null    bool  \n",
      "dtypes: bool(1), int64(1), object(11)\n",
      "memory usage: 22.8+ KB\n"
     ]
    }
   ],
   "source": [
    "df.info()"
   ]
  },
  {
   "cell_type": "markdown",
   "id": "70018e02",
   "metadata": {},
   "source": [
    "## Transformando nombres de columnas"
   ]
  },
  {
   "cell_type": "code",
   "execution_count": 69,
   "id": "ea2ed871",
   "metadata": {
    "scrolled": true
   },
   "outputs": [
    {
     "data": {
      "text/plain": [
       "Index(['camp_id', 'segc_cliente', 'segc_telefono', 'segc_medio_informacion',\n",
       "       'segc_estado', 'segc_fecha_solicitud', 'segc_fecha_seguimiento',\n",
       "       'segc_ultimo_seguimiento', 'segc_motivo_curso',\n",
       "       'segc_motivos_no_matricula', 'segc_proxima_llamada',\n",
       "       'segc_ubicacion_llamada', 'segc_trabaja_en_area'],\n",
       "      dtype='object')"
      ]
     },
     "execution_count": 69,
     "metadata": {},
     "output_type": "execute_result"
    }
   ],
   "source": [
    "df.columns"
   ]
  },
  {
   "cell_type": "code",
   "execution_count": 70,
   "id": "4a2a89b1",
   "metadata": {},
   "outputs": [],
   "source": [
    "new_names=[\"Campaña\",\"Seguimiento Cliente\",\"Teléfono\",\"RR.SS\",\"Estado\",\n",
    "                   \"Fecha_solicitud\",\"Fecha_seguimiento\",\n",
    "                   \"Último seguim.\",\"Motivo curso\",\n",
    "                   \"Motivo no seguir\",\"Prox.Llamad\",\n",
    "                   \"ubicacion\",\"trabajaenarea\"]"
   ]
  },
  {
   "cell_type": "code",
   "execution_count": 71,
   "id": "dcd2fa7e",
   "metadata": {},
   "outputs": [],
   "source": [
    "i=0\n",
    "for i in range(0,df.columns.shape[0]): #rename: previous name by actual name of columns\n",
    "    df.rename(columns={df.columns[i]:new_names[i]},inplace=True)"
   ]
  },
  {
   "cell_type": "code",
   "execution_count": 72,
   "id": "5800fa09",
   "metadata": {
    "scrolled": true
   },
   "outputs": [
    {
     "data": {
      "text/html": [
       "<div>\n",
       "<style scoped>\n",
       "    .dataframe tbody tr th:only-of-type {\n",
       "        vertical-align: middle;\n",
       "    }\n",
       "\n",
       "    .dataframe tbody tr th {\n",
       "        vertical-align: top;\n",
       "    }\n",
       "\n",
       "    .dataframe thead th {\n",
       "        text-align: right;\n",
       "    }\n",
       "</style>\n",
       "<table border=\"1\" class=\"dataframe\">\n",
       "  <thead>\n",
       "    <tr style=\"text-align: right;\">\n",
       "      <th></th>\n",
       "      <th>Campaña</th>\n",
       "      <th>Seguimiento Cliente</th>\n",
       "      <th>Teléfono</th>\n",
       "      <th>RR.SS</th>\n",
       "      <th>Estado</th>\n",
       "      <th>Fecha_solicitud</th>\n",
       "      <th>Fecha_seguimiento</th>\n",
       "      <th>Último seguim.</th>\n",
       "      <th>Motivo curso</th>\n",
       "      <th>Motivo no seguir</th>\n",
       "      <th>Prox.Llamad</th>\n",
       "      <th>ubicacion</th>\n",
       "      <th>trabajaenarea</th>\n",
       "    </tr>\n",
       "  </thead>\n",
       "  <tbody>\n",
       "    <tr>\n",
       "      <th>0</th>\n",
       "      <td>37</td>\n",
       "      <td>Stalin Lema</td>\n",
       "      <td>0986308318</td>\n",
       "      <td>MED02</td>\n",
       "      <td>CONTAC01</td>\n",
       "      <td>2023-06-20</td>\n",
       "      <td>2023-06-22</td>\n",
       "      <td>no contesta</td>\n",
       "      <td>NaN</td>\n",
       "      <td>NaN</td>\n",
       "      <td>NaN</td>\n",
       "      <td>NaN</td>\n",
       "      <td>False</td>\n",
       "    </tr>\n",
       "    <tr>\n",
       "      <th>1</th>\n",
       "      <td>37</td>\n",
       "      <td>Alexis Armas</td>\n",
       "      <td>0992897963</td>\n",
       "      <td>MED02</td>\n",
       "      <td>CONTAC01</td>\n",
       "      <td>2023-06-20</td>\n",
       "      <td>2023-07-06</td>\n",
       "      <td>no contesta</td>\n",
       "      <td>PAQ01</td>\n",
       "      <td>NaN</td>\n",
       "      <td>NaN</td>\n",
       "      <td>NaN</td>\n",
       "      <td>False</td>\n",
       "    </tr>\n",
       "    <tr>\n",
       "      <th>2</th>\n",
       "      <td>37</td>\n",
       "      <td>Joffre Pico</td>\n",
       "      <td>0990570944</td>\n",
       "      <td>MED02</td>\n",
       "      <td>CONTAC03</td>\n",
       "      <td>2023-06-20</td>\n",
       "      <td>2023-07-15</td>\n",
       "      <td>Pago 70 TBI el 14 julio</td>\n",
       "      <td>PAQ01</td>\n",
       "      <td>Certificaci�n</td>\n",
       "      <td>NaN</td>\n",
       "      <td>UDOM05</td>\n",
       "      <td>True</td>\n",
       "    </tr>\n",
       "    <tr>\n",
       "      <th>3</th>\n",
       "      <td>37</td>\n",
       "      <td>Ramiro Javier Arias</td>\n",
       "      <td>0968888369</td>\n",
       "      <td>MED02</td>\n",
       "      <td>CONTAC04</td>\n",
       "      <td>2023-06-21</td>\n",
       "      <td>2023-07-06</td>\n",
       "      <td>envio informacion para deposito</td>\n",
       "      <td>NaN</td>\n",
       "      <td>NaN</td>\n",
       "      <td>NaN</td>\n",
       "      <td>NaN</td>\n",
       "      <td>False</td>\n",
       "    </tr>\n",
       "    <tr>\n",
       "      <th>4</th>\n",
       "      <td>37</td>\n",
       "      <td>Bryan Andres</td>\n",
       "      <td>0992969100</td>\n",
       "      <td>MED02</td>\n",
       "      <td>CONTAC05</td>\n",
       "      <td>2023-06-21</td>\n",
       "      <td>2023-07-06</td>\n",
       "      <td>no puede los sabados</td>\n",
       "      <td>PAQ01</td>\n",
       "      <td>NaN</td>\n",
       "      <td>NaN</td>\n",
       "      <td>NaN</td>\n",
       "      <td>True</td>\n",
       "    </tr>\n",
       "  </tbody>\n",
       "</table>\n",
       "</div>"
      ],
      "text/plain": [
       "   Campaña  Seguimiento Cliente    Teléfono  RR.SS    Estado Fecha_solicitud  \\\n",
       "0       37          Stalin Lema  0986308318  MED02  CONTAC01      2023-06-20   \n",
       "1       37         Alexis Armas  0992897963  MED02  CONTAC01      2023-06-20   \n",
       "2       37          Joffre Pico  0990570944  MED02  CONTAC03      2023-06-20   \n",
       "3       37  Ramiro Javier Arias  0968888369  MED02  CONTAC04      2023-06-21   \n",
       "4       37         Bryan Andres  0992969100  MED02  CONTAC05      2023-06-21   \n",
       "\n",
       "  Fecha_seguimiento                   Último seguim. Motivo curso  \\\n",
       "0        2023-06-22                      no contesta          NaN   \n",
       "1        2023-07-06                      no contesta        PAQ01   \n",
       "2        2023-07-15          Pago 70 TBI el 14 julio        PAQ01   \n",
       "3        2023-07-06  envio informacion para deposito          NaN   \n",
       "4        2023-07-06             no puede los sabados        PAQ01   \n",
       "\n",
       "  Motivo no seguir Prox.Llamad ubicacion  trabajaenarea  \n",
       "0              NaN         NaN       NaN          False  \n",
       "1              NaN         NaN       NaN          False  \n",
       "2    Certificaci�n         NaN    UDOM05           True  \n",
       "3              NaN         NaN       NaN          False  \n",
       "4              NaN         NaN       NaN           True  "
      ]
     },
     "execution_count": 72,
     "metadata": {},
     "output_type": "execute_result"
    }
   ],
   "source": [
    "df.head()"
   ]
  },
  {
   "cell_type": "code",
   "execution_count": 73,
   "id": "f8b10fda",
   "metadata": {},
   "outputs": [
    {
     "data": {
      "text/html": [
       "<div>\n",
       "<style scoped>\n",
       "    .dataframe tbody tr th:only-of-type {\n",
       "        vertical-align: middle;\n",
       "    }\n",
       "\n",
       "    .dataframe tbody tr th {\n",
       "        vertical-align: top;\n",
       "    }\n",
       "\n",
       "    .dataframe thead th {\n",
       "        text-align: right;\n",
       "    }\n",
       "</style>\n",
       "<table border=\"1\" class=\"dataframe\">\n",
       "  <thead>\n",
       "    <tr style=\"text-align: right;\">\n",
       "      <th></th>\n",
       "      <th>count</th>\n",
       "      <th>unique</th>\n",
       "      <th>top</th>\n",
       "      <th>freq</th>\n",
       "    </tr>\n",
       "  </thead>\n",
       "  <tbody>\n",
       "    <tr>\n",
       "      <th>Seguimiento Cliente</th>\n",
       "      <td>239</td>\n",
       "      <td>193</td>\n",
       "      <td>s/n</td>\n",
       "      <td>41</td>\n",
       "    </tr>\n",
       "    <tr>\n",
       "      <th>Teléfono</th>\n",
       "      <td>239</td>\n",
       "      <td>236</td>\n",
       "      <td>+593939061678</td>\n",
       "      <td>2</td>\n",
       "    </tr>\n",
       "    <tr>\n",
       "      <th>RR.SS</th>\n",
       "      <td>239</td>\n",
       "      <td>5</td>\n",
       "      <td>MED02</td>\n",
       "      <td>224</td>\n",
       "    </tr>\n",
       "    <tr>\n",
       "      <th>Estado</th>\n",
       "      <td>239</td>\n",
       "      <td>5</td>\n",
       "      <td>CONTAC01</td>\n",
       "      <td>147</td>\n",
       "    </tr>\n",
       "    <tr>\n",
       "      <th>Fecha_solicitud</th>\n",
       "      <td>239</td>\n",
       "      <td>27</td>\n",
       "      <td>2023-07-06</td>\n",
       "      <td>24</td>\n",
       "    </tr>\n",
       "    <tr>\n",
       "      <th>Fecha_seguimiento</th>\n",
       "      <td>239</td>\n",
       "      <td>27</td>\n",
       "      <td>2023-07-03</td>\n",
       "      <td>37</td>\n",
       "    </tr>\n",
       "    <tr>\n",
       "      <th>Último seguim.</th>\n",
       "      <td>239</td>\n",
       "      <td>113</td>\n",
       "      <td>Info enviada</td>\n",
       "      <td>57</td>\n",
       "    </tr>\n",
       "    <tr>\n",
       "      <th>Motivo curso</th>\n",
       "      <td>33</td>\n",
       "      <td>5</td>\n",
       "      <td>PAQ01</td>\n",
       "      <td>14</td>\n",
       "    </tr>\n",
       "    <tr>\n",
       "      <th>Motivo no seguir</th>\n",
       "      <td>34</td>\n",
       "      <td>6</td>\n",
       "      <td>No tiene inter�s</td>\n",
       "      <td>13</td>\n",
       "    </tr>\n",
       "    <tr>\n",
       "      <th>Prox.Llamad</th>\n",
       "      <td>23</td>\n",
       "      <td>7</td>\n",
       "      <td>2023-07-18</td>\n",
       "      <td>6</td>\n",
       "    </tr>\n",
       "    <tr>\n",
       "      <th>ubicacion</th>\n",
       "      <td>2</td>\n",
       "      <td>1</td>\n",
       "      <td>UDOM05</td>\n",
       "      <td>2</td>\n",
       "    </tr>\n",
       "    <tr>\n",
       "      <th>trabajaenarea</th>\n",
       "      <td>239</td>\n",
       "      <td>2</td>\n",
       "      <td>False</td>\n",
       "      <td>229</td>\n",
       "    </tr>\n",
       "  </tbody>\n",
       "</table>\n",
       "</div>"
      ],
      "text/plain": [
       "                    count unique               top freq\n",
       "Seguimiento Cliente   239    193               s/n   41\n",
       "Teléfono              239    236     +593939061678    2\n",
       "RR.SS                 239      5             MED02  224\n",
       "Estado                239      5          CONTAC01  147\n",
       "Fecha_solicitud       239     27        2023-07-06   24\n",
       "Fecha_seguimiento     239     27        2023-07-03   37\n",
       "Último seguim.        239    113      Info enviada   57\n",
       "Motivo curso           33      5             PAQ01   14\n",
       "Motivo no seguir       34      6  No tiene inter�s   13\n",
       "Prox.Llamad            23      7        2023-07-18    6\n",
       "ubicacion               2      1            UDOM05    2\n",
       "trabajaenarea         239      2             False  229"
      ]
     },
     "execution_count": 73,
     "metadata": {},
     "output_type": "execute_result"
    }
   ],
   "source": [
    "df.describe(exclude=[np.number]).T"
   ]
  },
  {
   "cell_type": "code",
   "execution_count": 74,
   "id": "67e07ad6",
   "metadata": {},
   "outputs": [
    {
     "data": {
      "text/plain": [
       "Campaña                  0\n",
       "Seguimiento Cliente      0\n",
       "Teléfono                 0\n",
       "RR.SS                    0\n",
       "Estado                   0\n",
       "Fecha_solicitud          0\n",
       "Fecha_seguimiento        0\n",
       "Último seguim.           0\n",
       "Motivo curso           206\n",
       "Motivo no seguir       205\n",
       "Prox.Llamad            216\n",
       "ubicacion              237\n",
       "trabajaenarea            0\n",
       "dtype: int64"
      ]
     },
     "execution_count": 74,
     "metadata": {},
     "output_type": "execute_result"
    }
   ],
   "source": [
    "df.isnull().sum()"
   ]
  },
  {
   "cell_type": "markdown",
   "id": "4c554df3",
   "metadata": {},
   "source": [
    "### Motivo curso"
   ]
  },
  {
   "cell_type": "code",
   "execution_count": 75,
   "id": "e926597e",
   "metadata": {},
   "outputs": [
    {
     "data": {
      "text/plain": [
       "PAQ01    14\n",
       "PAQ02     9\n",
       "PAQ04     8\n",
       "PAQ05     1\n",
       "PAQ03     1\n",
       "Name: Motivo curso, dtype: int64"
      ]
     },
     "execution_count": 75,
     "metadata": {},
     "output_type": "execute_result"
    }
   ],
   "source": [
    "df['Motivo curso'].value_counts()"
   ]
  },
  {
   "cell_type": "code",
   "execution_count": 76,
   "id": "a7c4614a",
   "metadata": {},
   "outputs": [],
   "source": [
    "df['Motivo curso'].replace(['PAQ01','PAQ02','PAQ03','PAQ04','PAQ05'],\n",
    "           ['ParaSuTrabajo', 'ParaSuEmpresa', 'ParaBuscarEmpleo', 'PorHobby','PorEstudios'],inplace=True)"
   ]
  },
  {
   "cell_type": "code",
   "execution_count": 77,
   "id": "403dd37a",
   "metadata": {},
   "outputs": [
    {
     "data": {
      "text/plain": [
       "NaN                 206\n",
       "ParaSuTrabajo        14\n",
       "ParaSuEmpresa         9\n",
       "PorHobby              8\n",
       "PorEstudios           1\n",
       "ParaBuscarEmpleo      1\n",
       "Name: Motivo curso, dtype: int64"
      ]
     },
     "execution_count": 77,
     "metadata": {},
     "output_type": "execute_result"
    }
   ],
   "source": [
    "df['Motivo curso'].value_counts(dropna=False)"
   ]
  },
  {
   "cell_type": "code",
   "execution_count": 78,
   "id": "755fd6b6",
   "metadata": {},
   "outputs": [
    {
     "data": {
      "text/plain": [
       "Desconocido         206\n",
       "ParaSuTrabajo        14\n",
       "ParaSuEmpresa         9\n",
       "PorHobby              8\n",
       "PorEstudios           1\n",
       "ParaBuscarEmpleo      1\n",
       "Name: Motivo curso, dtype: int64"
      ]
     },
     "execution_count": 78,
     "metadata": {},
     "output_type": "execute_result"
    }
   ],
   "source": [
    "#motivo_prin=df['Motivo curso'].mode()[0]\n",
    "motivo_prin='Desconocido'\n",
    "df['Motivo curso'].fillna(motivo_prin,inplace=True)\n",
    "df['Motivo curso'].value_counts(dropna=False)"
   ]
  },
  {
   "cell_type": "markdown",
   "id": "bcd89d74",
   "metadata": {},
   "source": [
    "### Motivos no seguir el curso"
   ]
  },
  {
   "cell_type": "code",
   "execution_count": 79,
   "id": "04c48705",
   "metadata": {},
   "outputs": [
    {
     "data": {
      "text/plain": [
       "NaN                 205\n",
       "No tiene inter�s     13\n",
       "Horarios             10\n",
       "Precio alto           5\n",
       "Equivocado            4\n",
       "Certificaci�n         1\n",
       "Distancia             1\n",
       "Name: Motivo no seguir, dtype: int64"
      ]
     },
     "execution_count": 79,
     "metadata": {},
     "output_type": "execute_result"
    }
   ],
   "source": [
    "df['Motivo no seguir'].value_counts(dropna=False)"
   ]
  },
  {
   "cell_type": "code",
   "execution_count": 80,
   "id": "290392bb",
   "metadata": {},
   "outputs": [
    {
     "data": {
      "text/plain": [
       "array([nan, 'Certificaci�n', 'Horarios', 'No tiene inter�s',\n",
       "       'Precio alto', 'Equivocado', 'Distancia'], dtype=object)"
      ]
     },
     "execution_count": 80,
     "metadata": {},
     "output_type": "execute_result"
    }
   ],
   "source": [
    "df['Motivo no seguir'].unique()"
   ]
  },
  {
   "cell_type": "code",
   "execution_count": 81,
   "id": "4999cd5d",
   "metadata": {},
   "outputs": [
    {
     "data": {
      "text/plain": [
       "Desconocido         205\n",
       "No tiene interés     13\n",
       "Horarios             10\n",
       "Precio alto           5\n",
       "Equivocado            4\n",
       "Certificación         1\n",
       "Distancia             1\n",
       "Name: Motivo no seguir, dtype: int64"
      ]
     },
     "execution_count": 81,
     "metadata": {},
     "output_type": "execute_result"
    }
   ],
   "source": [
    "df['Motivo no seguir'].replace(['Certificaci�n','No tiene inter�s'],['Certificación','No tiene interés'],inplace=True)\n",
    "df['Motivo no seguir'].fillna('Desconocido',inplace=True)\n",
    "df['Motivo no seguir'].value_counts(dropna=False)"
   ]
  },
  {
   "cell_type": "code",
   "execution_count": 82,
   "id": "a700a9f9",
   "metadata": {},
   "outputs": [
    {
     "data": {
      "text/html": [
       "<div>\n",
       "<style scoped>\n",
       "    .dataframe tbody tr th:only-of-type {\n",
       "        vertical-align: middle;\n",
       "    }\n",
       "\n",
       "    .dataframe tbody tr th {\n",
       "        vertical-align: top;\n",
       "    }\n",
       "\n",
       "    .dataframe thead th {\n",
       "        text-align: right;\n",
       "    }\n",
       "</style>\n",
       "<table border=\"1\" class=\"dataframe\">\n",
       "  <thead>\n",
       "    <tr style=\"text-align: right;\">\n",
       "      <th></th>\n",
       "      <th>Campaña</th>\n",
       "      <th>Motivo no seguir</th>\n",
       "      <th>Último seguim.</th>\n",
       "    </tr>\n",
       "  </thead>\n",
       "  <tbody>\n",
       "    <tr>\n",
       "      <th>2</th>\n",
       "      <td>37</td>\n",
       "      <td>Certificación</td>\n",
       "      <td>Pago 70 TBI el 14 julio</td>\n",
       "    </tr>\n",
       "  </tbody>\n",
       "</table>\n",
       "</div>"
      ],
      "text/plain": [
       "   Campaña Motivo no seguir           Último seguim.\n",
       "2       37    Certificación  Pago 70 TBI el 14 julio"
      ]
     },
     "execution_count": 82,
     "metadata": {},
     "output_type": "execute_result"
    }
   ],
   "source": [
    "#Visualizar de las campañas quienes no tienen interés y su último seguimiento\n",
    "df[(df['Motivo no seguir']=='Certificación')][['Campaña',\n",
    "                                                  'Motivo no seguir',\n",
    "                                                  'Último seguim.']].sort_values(by=['Campaña'])"
   ]
  },
  {
   "cell_type": "markdown",
   "id": "2632ebdc",
   "metadata": {},
   "source": [
    "**37:** Electricidad Automotriz-Julio </br>\n",
    "**38:** Paneles Solares"
   ]
  },
  {
   "cell_type": "markdown",
   "id": "fb2dc21e",
   "metadata": {},
   "source": [
    "### Campaña"
   ]
  },
  {
   "cell_type": "code",
   "execution_count": 83,
   "id": "0b52baf5",
   "metadata": {},
   "outputs": [
    {
     "data": {
      "text/plain": [
       "37    74\n",
       "39    69\n",
       "38    60\n",
       "40    36\n",
       "Name: Campaña, dtype: int64"
      ]
     },
     "execution_count": 83,
     "metadata": {},
     "output_type": "execute_result"
    }
   ],
   "source": [
    "df['Campaña'].value_counts()"
   ]
  },
  {
   "cell_type": "code",
   "execution_count": 84,
   "id": "f1687f2c",
   "metadata": {},
   "outputs": [],
   "source": [
    "df['Campaña'].replace([37,38,39,40],['EAutomotriz','PanelesS','Motos','Fibra'],inplace=True)"
   ]
  },
  {
   "cell_type": "code",
   "execution_count": 85,
   "id": "277b1554",
   "metadata": {},
   "outputs": [
    {
     "data": {
      "text/plain": [
       "EAutomotriz    74\n",
       "Motos          69\n",
       "PanelesS       60\n",
       "Fibra          36\n",
       "Name: Campaña, dtype: int64"
      ]
     },
     "execution_count": 85,
     "metadata": {},
     "output_type": "execute_result"
    }
   ],
   "source": [
    "df['Campaña'].value_counts(dropna=False)"
   ]
  },
  {
   "cell_type": "markdown",
   "id": "05bff643",
   "metadata": {},
   "source": [
    "### Red Social"
   ]
  },
  {
   "cell_type": "code",
   "execution_count": 86,
   "id": "2234f3d0",
   "metadata": {},
   "outputs": [
    {
     "data": {
      "text/plain": [
       "MED02    224\n",
       "MED07      5\n",
       "MED03      4\n",
       "MED08      3\n",
       "MED06      3\n",
       "Name: RR.SS, dtype: int64"
      ]
     },
     "execution_count": 86,
     "metadata": {},
     "output_type": "execute_result"
    }
   ],
   "source": [
    "df['RR.SS'].value_counts()"
   ]
  },
  {
   "cell_type": "code",
   "execution_count": 87,
   "id": "cf186507",
   "metadata": {},
   "outputs": [],
   "source": [
    "df['RR.SS'].replace(['MED01','MED02','MED03','MED04','MED05','MED06','MED07','MED08'],\n",
    "           ['CursoEmpresarial', 'Facebook', 'PaginaWeb', 'Radio', 'Recomendacion','Whatsapp','Instagram','TikTok'],inplace=True)"
   ]
  },
  {
   "cell_type": "code",
   "execution_count": 88,
   "id": "bcb0018c",
   "metadata": {},
   "outputs": [
    {
     "data": {
      "text/plain": [
       "Facebook     224\n",
       "Instagram      5\n",
       "PaginaWeb      4\n",
       "TikTok         3\n",
       "Whatsapp       3\n",
       "Name: RR.SS, dtype: int64"
      ]
     },
     "execution_count": 88,
     "metadata": {},
     "output_type": "execute_result"
    }
   ],
   "source": [
    "df['RR.SS'].value_counts(dropna=False)"
   ]
  },
  {
   "cell_type": "markdown",
   "id": "a7254dec",
   "metadata": {},
   "source": [
    "### Estado"
   ]
  },
  {
   "cell_type": "code",
   "execution_count": 89,
   "id": "1e47ae6b",
   "metadata": {},
   "outputs": [
    {
     "data": {
      "text/plain": [
       "CONTAC01    147\n",
       "CONTAC02     30\n",
       "CONTAC04     26\n",
       "CONTAC05     20\n",
       "CONTAC03     16\n",
       "Name: Estado, dtype: int64"
      ]
     },
     "execution_count": 89,
     "metadata": {},
     "output_type": "execute_result"
    }
   ],
   "source": [
    "df['Estado'].value_counts(dropna=False)"
   ]
  },
  {
   "cell_type": "code",
   "execution_count": 90,
   "id": "042d18c0",
   "metadata": {},
   "outputs": [],
   "source": [
    "df['Estado'].replace(['CONTAC01','CONTAC02','CONTAC03','CONTAC04','CONTAC05'],\n",
    "           ['EnContacto', 'Abandonado', 'Matriculado', 'Candidato','ProximaOcasion'],inplace=True)"
   ]
  },
  {
   "cell_type": "code",
   "execution_count": 91,
   "id": "74130988",
   "metadata": {
    "scrolled": true
   },
   "outputs": [
    {
     "data": {
      "text/plain": [
       "EnContacto        147\n",
       "Abandonado         30\n",
       "Candidato          26\n",
       "ProximaOcasion     20\n",
       "Matriculado        16\n",
       "Name: Estado, dtype: int64"
      ]
     },
     "execution_count": 91,
     "metadata": {},
     "output_type": "execute_result"
    }
   ],
   "source": [
    "df['Estado'].value_counts(dropna=False)"
   ]
  },
  {
   "cell_type": "markdown",
   "id": "f8dc6967",
   "metadata": {},
   "source": [
    "### Próxima Llamada"
   ]
  },
  {
   "cell_type": "code",
   "execution_count": 92,
   "id": "e312d2c2",
   "metadata": {},
   "outputs": [
    {
     "data": {
      "text/plain": [
       "216"
      ]
     },
     "execution_count": 92,
     "metadata": {},
     "output_type": "execute_result"
    }
   ],
   "source": [
    "df['Prox.Llamad'].isna().sum()"
   ]
  },
  {
   "cell_type": "code",
   "execution_count": 93,
   "id": "4ce58d03",
   "metadata": {},
   "outputs": [],
   "source": [
    "df['Prox.Llamad'].fillna('Desconocido',inplace=True)"
   ]
  },
  {
   "cell_type": "markdown",
   "id": "cb91ba5e",
   "metadata": {},
   "source": [
    "### Ubicación"
   ]
  },
  {
   "cell_type": "code",
   "execution_count": 94,
   "id": "903f16b6",
   "metadata": {},
   "outputs": [
    {
     "data": {
      "text/plain": [
       "NaN       237\n",
       "UDOM05      2\n",
       "Name: ubicacion, dtype: int64"
      ]
     },
     "execution_count": 94,
     "metadata": {},
     "output_type": "execute_result"
    }
   ],
   "source": [
    "df['ubicacion'].value_counts(dropna=False)"
   ]
  },
  {
   "cell_type": "code",
   "execution_count": 95,
   "id": "1d300266",
   "metadata": {},
   "outputs": [
    {
     "data": {
      "text/plain": [
       "Indefinido    237\n",
       "Sur             2\n",
       "Name: ubicacion, dtype: int64"
      ]
     },
     "execution_count": 95,
     "metadata": {},
     "output_type": "execute_result"
    }
   ],
   "source": [
    "df['ubicacion'].replace(['UDOM01','UDOM02','UDOM03','UDOM04','UDOM05','UDOM06'],\n",
    "           ['Norte', 'CentroNorte', 'CentroSur', 'Centro','Sur','Periferia'],inplace=True)\n",
    "df['ubicacion'].fillna('Indefinido',inplace=True)\n",
    "df['ubicacion'].value_counts()"
   ]
  },
  {
   "cell_type": "markdown",
   "id": "5a8731d9",
   "metadata": {},
   "source": [
    "#### Cuántos de Electricidad son del sur?"
   ]
  },
  {
   "cell_type": "code",
   "execution_count": 96,
   "id": "212f7da0",
   "metadata": {
    "scrolled": true
   },
   "outputs": [
    {
     "data": {
      "text/plain": [
       "2"
      ]
     },
     "execution_count": 96,
     "metadata": {},
     "output_type": "execute_result"
    }
   ],
   "source": [
    "df[(df['ubicacion']=='Sur') & (df['Campaña']=='EAutomotriz')].shape[0]"
   ]
  },
  {
   "cell_type": "markdown",
   "id": "626a8d07",
   "metadata": {},
   "source": [
    "#### Cuántos de Paneles Solares son del sur?"
   ]
  },
  {
   "cell_type": "code",
   "execution_count": 97,
   "id": "6439cc8a",
   "metadata": {},
   "outputs": [
    {
     "data": {
      "text/plain": [
       "0"
      ]
     },
     "execution_count": 97,
     "metadata": {},
     "output_type": "execute_result"
    }
   ],
   "source": [
    "df[(df['ubicacion']=='Sur') & (df['Campaña']=='PanelesS')].shape[0]"
   ]
  },
  {
   "cell_type": "markdown",
   "id": "ab94f231",
   "metadata": {},
   "source": [
    "### Trabaja en el área"
   ]
  },
  {
   "cell_type": "code",
   "execution_count": 98,
   "id": "122a6283",
   "metadata": {},
   "outputs": [
    {
     "data": {
      "text/plain": [
       "False    229\n",
       "True      10\n",
       "Name: trabajaenarea, dtype: int64"
      ]
     },
     "execution_count": 98,
     "metadata": {},
     "output_type": "execute_result"
    }
   ],
   "source": [
    "df['trabajaenarea'].value_counts()"
   ]
  },
  {
   "cell_type": "code",
   "execution_count": 99,
   "id": "37a9ce17",
   "metadata": {},
   "outputs": [
    {
     "data": {
      "text/plain": [
       "No    229\n",
       "Si     10\n",
       "Name: trabajaenarea, dtype: int64"
      ]
     },
     "execution_count": 99,
     "metadata": {},
     "output_type": "execute_result"
    }
   ],
   "source": [
    "df['trabajaenarea'].replace([True,False],['Si','No'],inplace=True)\n",
    "df['trabajaenarea'].value_counts()"
   ]
  },
  {
   "cell_type": "markdown",
   "id": "a0d3384d",
   "metadata": {},
   "source": [
    "### Preguntas:\n",
    "##### Cúantos matriculados en EA?: En total hubo 8"
   ]
  },
  {
   "cell_type": "code",
   "execution_count": 100,
   "id": "7b0ad1fd",
   "metadata": {},
   "outputs": [
    {
     "data": {
      "text/html": [
       "<div>\n",
       "<style scoped>\n",
       "    .dataframe tbody tr th:only-of-type {\n",
       "        vertical-align: middle;\n",
       "    }\n",
       "\n",
       "    .dataframe tbody tr th {\n",
       "        vertical-align: top;\n",
       "    }\n",
       "\n",
       "    .dataframe thead th {\n",
       "        text-align: right;\n",
       "    }\n",
       "</style>\n",
       "<table border=\"1\" class=\"dataframe\">\n",
       "  <thead>\n",
       "    <tr style=\"text-align: right;\">\n",
       "      <th></th>\n",
       "      <th>Campaña</th>\n",
       "      <th>Seguimiento Cliente</th>\n",
       "      <th>RR.SS</th>\n",
       "      <th>Último seguim.</th>\n",
       "      <th>Motivo curso</th>\n",
       "    </tr>\n",
       "  </thead>\n",
       "  <tbody>\n",
       "    <tr>\n",
       "      <th>2</th>\n",
       "      <td>EAutomotriz</td>\n",
       "      <td>Joffre Pico</td>\n",
       "      <td>Facebook</td>\n",
       "      <td>Pago 70 TBI el 14 julio</td>\n",
       "      <td>ParaSuTrabajo</td>\n",
       "    </tr>\n",
       "    <tr>\n",
       "      <th>29</th>\n",
       "      <td>EAutomotriz</td>\n",
       "      <td>Diego Guaylla</td>\n",
       "      <td>Facebook</td>\n",
       "      <td>Quiere instalar taxímetros</td>\n",
       "      <td>Desconocido</td>\n",
       "    </tr>\n",
       "    <tr>\n",
       "      <th>54</th>\n",
       "      <td>EAutomotriz</td>\n",
       "      <td>Jeniffer Polo</td>\n",
       "      <td>Facebook</td>\n",
       "      <td>pagado la mtricula</td>\n",
       "      <td>Desconocido</td>\n",
       "    </tr>\n",
       "    <tr>\n",
       "      <th>70</th>\n",
       "      <td>EAutomotriz</td>\n",
       "      <td>Carina Escobar</td>\n",
       "      <td>Facebook</td>\n",
       "      <td>Matriculado pago 70 efectivo</td>\n",
       "      <td>Desconocido</td>\n",
       "    </tr>\n",
       "    <tr>\n",
       "      <th>72</th>\n",
       "      <td>EAutomotriz</td>\n",
       "      <td>Fabian Ortiz</td>\n",
       "      <td>Facebook</td>\n",
       "      <td>Pago 70 TBP</td>\n",
       "      <td>ParaSuEmpresa</td>\n",
       "    </tr>\n",
       "    <tr>\n",
       "      <th>97</th>\n",
       "      <td>EAutomotriz</td>\n",
       "      <td>Mauro Batalla</td>\n",
       "      <td>Whatsapp</td>\n",
       "      <td>Transferencia BP 70</td>\n",
       "      <td>Desconocido</td>\n",
       "    </tr>\n",
       "    <tr>\n",
       "      <th>110</th>\n",
       "      <td>EAutomotriz</td>\n",
       "      <td>David Yungan</td>\n",
       "      <td>Facebook</td>\n",
       "      <td>Quiere aprender electricidad para autolujos</td>\n",
       "      <td>ParaSuEmpresa</td>\n",
       "    </tr>\n",
       "    <tr>\n",
       "      <th>151</th>\n",
       "      <td>EAutomotriz</td>\n",
       "      <td>Cesar Chavez</td>\n",
       "      <td>Facebook</td>\n",
       "      <td>matriculado pago 70 efectivo</td>\n",
       "      <td>Desconocido</td>\n",
       "    </tr>\n",
       "    <tr>\n",
       "      <th>160</th>\n",
       "      <td>EAutomotriz</td>\n",
       "      <td>Diego Javier Yugsi Llano</td>\n",
       "      <td>PaginaWeb</td>\n",
       "      <td>Transferencia el 11-07-2023\\nBanco de Guayaqui...</td>\n",
       "      <td>Desconocido</td>\n",
       "    </tr>\n",
       "  </tbody>\n",
       "</table>\n",
       "</div>"
      ],
      "text/plain": [
       "         Campaña       Seguimiento Cliente      RR.SS  \\\n",
       "2    EAutomotriz               Joffre Pico   Facebook   \n",
       "29   EAutomotriz             Diego Guaylla   Facebook   \n",
       "54   EAutomotriz             Jeniffer Polo   Facebook   \n",
       "70   EAutomotriz            Carina Escobar   Facebook   \n",
       "72   EAutomotriz              Fabian Ortiz   Facebook   \n",
       "97   EAutomotriz             Mauro Batalla   Whatsapp   \n",
       "110  EAutomotriz              David Yungan   Facebook   \n",
       "151  EAutomotriz              Cesar Chavez   Facebook   \n",
       "160  EAutomotriz  Diego Javier Yugsi Llano  PaginaWeb   \n",
       "\n",
       "                                        Último seguim.   Motivo curso  \n",
       "2                              Pago 70 TBI el 14 julio  ParaSuTrabajo  \n",
       "29                          Quiere instalar taxímetros    Desconocido  \n",
       "54                                  pagado la mtricula    Desconocido  \n",
       "70                        Matriculado pago 70 efectivo    Desconocido  \n",
       "72                                         Pago 70 TBP  ParaSuEmpresa  \n",
       "97                                 Transferencia BP 70    Desconocido  \n",
       "110        Quiere aprender electricidad para autolujos  ParaSuEmpresa  \n",
       "151                       matriculado pago 70 efectivo    Desconocido  \n",
       "160  Transferencia el 11-07-2023\\nBanco de Guayaqui...    Desconocido  "
      ]
     },
     "execution_count": 100,
     "metadata": {},
     "output_type": "execute_result"
    }
   ],
   "source": [
    "df[(df['Estado']=='Matriculado') & (df['Campaña']=='EAutomotriz')][['Campaña','Seguimiento Cliente',\n",
    "                                                               'RR.SS','Último seguim.','Motivo curso']]"
   ]
  },
  {
   "cell_type": "markdown",
   "id": "2ccd31f7",
   "metadata": {},
   "source": [
    "##### Cuántos matriculados en Paneles Solares?"
   ]
  },
  {
   "cell_type": "code",
   "execution_count": 101,
   "id": "29717b68",
   "metadata": {},
   "outputs": [
    {
     "data": {
      "text/html": [
       "<div>\n",
       "<style scoped>\n",
       "    .dataframe tbody tr th:only-of-type {\n",
       "        vertical-align: middle;\n",
       "    }\n",
       "\n",
       "    .dataframe tbody tr th {\n",
       "        vertical-align: top;\n",
       "    }\n",
       "\n",
       "    .dataframe thead th {\n",
       "        text-align: right;\n",
       "    }\n",
       "</style>\n",
       "<table border=\"1\" class=\"dataframe\">\n",
       "  <thead>\n",
       "    <tr style=\"text-align: right;\">\n",
       "      <th></th>\n",
       "      <th>Campaña</th>\n",
       "      <th>Seguimiento Cliente</th>\n",
       "      <th>RR.SS</th>\n",
       "      <th>Último seguim.</th>\n",
       "      <th>Motivo curso</th>\n",
       "    </tr>\n",
       "  </thead>\n",
       "  <tbody>\n",
       "    <tr>\n",
       "      <th>46</th>\n",
       "      <td>PanelesS</td>\n",
       "      <td>Diego Chicaiza</td>\n",
       "      <td>Facebook</td>\n",
       "      <td>Deposito 25 al BI</td>\n",
       "      <td>Desconocido</td>\n",
       "    </tr>\n",
       "    <tr>\n",
       "      <th>50</th>\n",
       "      <td>PanelesS</td>\n",
       "      <td>Ana Lara</td>\n",
       "      <td>Facebook</td>\n",
       "      <td>Instalar en una casa-campo</td>\n",
       "      <td>ParaSuEmpresa</td>\n",
       "    </tr>\n",
       "    <tr>\n",
       "      <th>87</th>\n",
       "      <td>PanelesS</td>\n",
       "      <td>Javier Salguero</td>\n",
       "      <td>Facebook</td>\n",
       "      <td>Abonado 50 para dos personas Salguero y Trujillo</td>\n",
       "      <td>Desconocido</td>\n",
       "    </tr>\n",
       "  </tbody>\n",
       "</table>\n",
       "</div>"
      ],
      "text/plain": [
       "     Campaña Seguimiento Cliente     RR.SS  \\\n",
       "46  PanelesS      Diego Chicaiza  Facebook   \n",
       "50  PanelesS            Ana Lara  Facebook   \n",
       "87  PanelesS     Javier Salguero  Facebook   \n",
       "\n",
       "                                      Último seguim.   Motivo curso  \n",
       "46                                 Deposito 25 al BI    Desconocido  \n",
       "50                        Instalar en una casa-campo  ParaSuEmpresa  \n",
       "87  Abonado 50 para dos personas Salguero y Trujillo    Desconocido  "
      ]
     },
     "execution_count": 101,
     "metadata": {},
     "output_type": "execute_result"
    }
   ],
   "source": [
    "df[(df['Estado']=='Matriculado') & (df['Campaña']=='PanelesS')][['Campaña','Seguimiento Cliente',\n",
    "                                                               'RR.SS','Último seguim.','Motivo curso']]"
   ]
  },
  {
   "cell_type": "code",
   "execution_count": 102,
   "id": "728afaa5",
   "metadata": {},
   "outputs": [],
   "source": [
    "df['Cuánto']=np.ones((df.shape[0],), dtype=int) #Adding ones to last column to be use in Power BI and be counted."
   ]
  },
  {
   "cell_type": "code",
   "execution_count": 103,
   "id": "4390888b",
   "metadata": {},
   "outputs": [
    {
     "data": {
      "text/plain": [
       "EAutomotriz    74\n",
       "Motos          69\n",
       "PanelesS       60\n",
       "Fibra          36\n",
       "Name: Campaña, dtype: int64"
      ]
     },
     "execution_count": 103,
     "metadata": {},
     "output_type": "execute_result"
    }
   ],
   "source": [
    "df['Campaña'].value_counts()"
   ]
  },
  {
   "cell_type": "code",
   "execution_count": 104,
   "id": "b45e0067",
   "metadata": {},
   "outputs": [
    {
     "data": {
      "text/html": [
       "<div>\n",
       "<style scoped>\n",
       "    .dataframe tbody tr th:only-of-type {\n",
       "        vertical-align: middle;\n",
       "    }\n",
       "\n",
       "    .dataframe tbody tr th {\n",
       "        vertical-align: top;\n",
       "    }\n",
       "\n",
       "    .dataframe thead th {\n",
       "        text-align: right;\n",
       "    }\n",
       "</style>\n",
       "<table border=\"1\" class=\"dataframe\">\n",
       "  <thead>\n",
       "    <tr style=\"text-align: right;\">\n",
       "      <th></th>\n",
       "      <th>Campaña</th>\n",
       "      <th>Seguimiento Cliente</th>\n",
       "      <th>Teléfono</th>\n",
       "      <th>RR.SS</th>\n",
       "      <th>Estado</th>\n",
       "      <th>Fecha_solicitud</th>\n",
       "      <th>Fecha_seguimiento</th>\n",
       "      <th>Último seguim.</th>\n",
       "      <th>Motivo curso</th>\n",
       "      <th>Motivo no seguir</th>\n",
       "      <th>Prox.Llamad</th>\n",
       "      <th>ubicacion</th>\n",
       "      <th>trabajaenarea</th>\n",
       "      <th>Cuánto</th>\n",
       "    </tr>\n",
       "  </thead>\n",
       "  <tbody>\n",
       "    <tr>\n",
       "      <th>46</th>\n",
       "      <td>PanelesS</td>\n",
       "      <td>Diego Chicaiza</td>\n",
       "      <td>+593985050111</td>\n",
       "      <td>Facebook</td>\n",
       "      <td>Matriculado</td>\n",
       "      <td>2023-06-23</td>\n",
       "      <td>2023-06-29</td>\n",
       "      <td>Deposito 25 al BI</td>\n",
       "      <td>Desconocido</td>\n",
       "      <td>Desconocido</td>\n",
       "      <td>Desconocido</td>\n",
       "      <td>Indefinido</td>\n",
       "      <td>No</td>\n",
       "      <td>1</td>\n",
       "    </tr>\n",
       "  </tbody>\n",
       "</table>\n",
       "</div>"
      ],
      "text/plain": [
       "     Campaña Seguimiento Cliente       Teléfono     RR.SS       Estado  \\\n",
       "46  PanelesS      Diego Chicaiza  +593985050111  Facebook  Matriculado   \n",
       "\n",
       "   Fecha_solicitud Fecha_seguimiento     Último seguim. Motivo curso  \\\n",
       "46      2023-06-23        2023-06-29  Deposito 25 al BI  Desconocido   \n",
       "\n",
       "   Motivo no seguir  Prox.Llamad   ubicacion trabajaenarea  Cuánto  \n",
       "46      Desconocido  Desconocido  Indefinido            No       1  "
      ]
     },
     "execution_count": 104,
     "metadata": {},
     "output_type": "execute_result"
    }
   ],
   "source": [
    "df[df['Seguimiento Cliente']=='Diego Chicaiza']"
   ]
  },
  {
   "cell_type": "code",
   "execution_count": 105,
   "id": "56df6811",
   "metadata": {},
   "outputs": [
    {
     "data": {
      "text/plain": [
       "Campaña                                PanelesS\n",
       "Seguimiento Cliente                Frank Castle\n",
       "Teléfono                          +593969649097\n",
       "RR.SS                                  Facebook\n",
       "Estado                               EnContacto\n",
       "Fecha_solicitud                      2023-06-23\n",
       "Fecha_seguimiento                    2023-07-03\n",
       "Último seguim.         1er recordatorio enviado\n",
       "Motivo curso                        Desconocido\n",
       "Motivo no seguir                    Desconocido\n",
       "Prox.Llamad                         Desconocido\n",
       "ubicacion                            Indefinido\n",
       "trabajaenarea                                No\n",
       "Cuánto                                        1\n",
       "Name: 43, dtype: object"
      ]
     },
     "execution_count": 105,
     "metadata": {},
     "output_type": "execute_result"
    }
   ],
   "source": [
    "df.iloc[43]"
   ]
  },
  {
   "cell_type": "code",
   "execution_count": 106,
   "id": "3d2dd33d",
   "metadata": {},
   "outputs": [
    {
     "name": "stdout",
     "output_type": "stream",
     "text": [
      "(74, 14)\n",
      "(60, 14)\n",
      "(69, 14)\n",
      "(36, 14)\n"
     ]
    }
   ],
   "source": [
    "# separating data into two dataframes based on ID\n",
    "df_EA = df[df['Campaña'] == 'EAutomotriz']\n",
    "df_PS = df[df['Campaña'] == 'PanelesS']\n",
    "df_MT = df[df['Campaña'] == 'Motos']\n",
    "df_FB = df[df['Campaña'] == 'Fibra']\n",
    "\n",
    "print(df_EA.shape)\n",
    "print(df_PS.shape)\n",
    "print(df_MT.shape)\n",
    "print(df_FB.shape)"
   ]
  },
  {
   "cell_type": "code",
   "execution_count": 107,
   "id": "aefd9ccc",
   "metadata": {},
   "outputs": [],
   "source": [
    "# create a writer object to write to Excel file\n",
    "writer = pd.ExcelWriter('CampEA-PS-MT-FB-jul.xlsx', engine='xlsxwriter')\n",
    "\n",
    "# write dataframes to separate sheets\n",
    "df_EA.to_excel(writer, sheet_name='EAutomotriz')\n",
    "df_PS.to_excel(writer, sheet_name='PanelesSolares')\n",
    "df_MT.to_excel(writer, sheet_name='Motos')\n",
    "df_FB.to_excel(writer, sheet_name='FibraVidrio')\n",
    "\n",
    "# save the file\n",
    "writer.save()"
   ]
  },
  {
   "cell_type": "code",
   "execution_count": 108,
   "id": "67f0660b",
   "metadata": {
    "scrolled": true
   },
   "outputs": [
    {
     "data": {
      "text/html": [
       "<div>\n",
       "<style scoped>\n",
       "    .dataframe tbody tr th:only-of-type {\n",
       "        vertical-align: middle;\n",
       "    }\n",
       "\n",
       "    .dataframe tbody tr th {\n",
       "        vertical-align: top;\n",
       "    }\n",
       "\n",
       "    .dataframe thead th {\n",
       "        text-align: right;\n",
       "    }\n",
       "</style>\n",
       "<table border=\"1\" class=\"dataframe\">\n",
       "  <thead>\n",
       "    <tr style=\"text-align: right;\">\n",
       "      <th></th>\n",
       "      <th>Campaña</th>\n",
       "      <th>Seguimiento Cliente</th>\n",
       "      <th>Teléfono</th>\n",
       "      <th>RR.SS</th>\n",
       "      <th>Estado</th>\n",
       "      <th>Fecha_solicitud</th>\n",
       "      <th>Fecha_seguimiento</th>\n",
       "      <th>Último seguim.</th>\n",
       "      <th>Motivo curso</th>\n",
       "      <th>Motivo no seguir</th>\n",
       "      <th>Prox.Llamad</th>\n",
       "      <th>ubicacion</th>\n",
       "      <th>trabajaenarea</th>\n",
       "      <th>Cuánto</th>\n",
       "    </tr>\n",
       "  </thead>\n",
       "  <tbody>\n",
       "    <tr>\n",
       "      <th>154</th>\n",
       "      <td>PanelesS</td>\n",
       "      <td>s/n</td>\n",
       "      <td>+593984384678</td>\n",
       "      <td>Facebook</td>\n",
       "      <td>EnContacto</td>\n",
       "      <td>2023-07-10</td>\n",
       "      <td>2023-07-10</td>\n",
       "      <td>Info enviada</td>\n",
       "      <td>Desconocido</td>\n",
       "      <td>Desconocido</td>\n",
       "      <td>Desconocido</td>\n",
       "      <td>Indefinido</td>\n",
       "      <td>No</td>\n",
       "      <td>1</td>\n",
       "    </tr>\n",
       "    <tr>\n",
       "      <th>120</th>\n",
       "      <td>Motos</td>\n",
       "      <td>s/n</td>\n",
       "      <td>+593996716546</td>\n",
       "      <td>Facebook</td>\n",
       "      <td>EnContacto</td>\n",
       "      <td>2023-07-04</td>\n",
       "      <td>2023-07-04</td>\n",
       "      <td>Info enviada</td>\n",
       "      <td>Desconocido</td>\n",
       "      <td>Desconocido</td>\n",
       "      <td>Desconocido</td>\n",
       "      <td>Indefinido</td>\n",
       "      <td>No</td>\n",
       "      <td>1</td>\n",
       "    </tr>\n",
       "    <tr>\n",
       "      <th>98</th>\n",
       "      <td>EAutomotriz</td>\n",
       "      <td>Luis</td>\n",
       "      <td>+593995030608</td>\n",
       "      <td>Facebook</td>\n",
       "      <td>EnContacto</td>\n",
       "      <td>2023-07-02</td>\n",
       "      <td>2023-07-02</td>\n",
       "      <td>Info enviada</td>\n",
       "      <td>Desconocido</td>\n",
       "      <td>Desconocido</td>\n",
       "      <td>Desconocido</td>\n",
       "      <td>Indefinido</td>\n",
       "      <td>No</td>\n",
       "      <td>1</td>\n",
       "    </tr>\n",
       "    <tr>\n",
       "      <th>84</th>\n",
       "      <td>EAutomotriz</td>\n",
       "      <td>Rocio Delgado Amaguaña</td>\n",
       "      <td>+593992947738</td>\n",
       "      <td>Facebook</td>\n",
       "      <td>EnContacto</td>\n",
       "      <td>2023-07-01</td>\n",
       "      <td>2023-07-01</td>\n",
       "      <td>Info enviada</td>\n",
       "      <td>Desconocido</td>\n",
       "      <td>Desconocido</td>\n",
       "      <td>Desconocido</td>\n",
       "      <td>Indefinido</td>\n",
       "      <td>No</td>\n",
       "      <td>1</td>\n",
       "    </tr>\n",
       "    <tr>\n",
       "      <th>191</th>\n",
       "      <td>Motos</td>\n",
       "      <td>Ivan</td>\n",
       "      <td>+593979664987</td>\n",
       "      <td>Facebook</td>\n",
       "      <td>Abandonado</td>\n",
       "      <td>2023-07-18</td>\n",
       "      <td>2023-07-20</td>\n",
       "      <td>Ya matriculó en otro lado.</td>\n",
       "      <td>Desconocido</td>\n",
       "      <td>No tiene interés</td>\n",
       "      <td>Desconocido</td>\n",
       "      <td>Indefinido</td>\n",
       "      <td>No</td>\n",
       "      <td>1</td>\n",
       "    </tr>\n",
       "  </tbody>\n",
       "</table>\n",
       "</div>"
      ],
      "text/plain": [
       "         Campaña     Seguimiento Cliente       Teléfono     RR.SS      Estado  \\\n",
       "154     PanelesS                     s/n  +593984384678  Facebook  EnContacto   \n",
       "120        Motos                     s/n  +593996716546  Facebook  EnContacto   \n",
       "98   EAutomotriz                    Luis  +593995030608  Facebook  EnContacto   \n",
       "84   EAutomotriz  Rocio Delgado Amaguaña  +593992947738  Facebook  EnContacto   \n",
       "191        Motos                    Ivan  +593979664987  Facebook  Abandonado   \n",
       "\n",
       "    Fecha_solicitud Fecha_seguimiento              Último seguim.  \\\n",
       "154      2023-07-10        2023-07-10                Info enviada   \n",
       "120      2023-07-04        2023-07-04                Info enviada   \n",
       "98       2023-07-02        2023-07-02                Info enviada   \n",
       "84       2023-07-01        2023-07-01                Info enviada   \n",
       "191      2023-07-18        2023-07-20  Ya matriculó en otro lado.   \n",
       "\n",
       "    Motivo curso  Motivo no seguir  Prox.Llamad   ubicacion trabajaenarea  \\\n",
       "154  Desconocido       Desconocido  Desconocido  Indefinido            No   \n",
       "120  Desconocido       Desconocido  Desconocido  Indefinido            No   \n",
       "98   Desconocido       Desconocido  Desconocido  Indefinido            No   \n",
       "84   Desconocido       Desconocido  Desconocido  Indefinido            No   \n",
       "191  Desconocido  No tiene interés  Desconocido  Indefinido            No   \n",
       "\n",
       "     Cuánto  \n",
       "154       1  \n",
       "120       1  \n",
       "98        1  \n",
       "84        1  \n",
       "191       1  "
      ]
     },
     "execution_count": 108,
     "metadata": {},
     "output_type": "execute_result"
    }
   ],
   "source": [
    "df.sample(5)"
   ]
  },
  {
   "cell_type": "markdown",
   "id": "6ff34643",
   "metadata": {},
   "source": [
    "### Pregunta:\n",
    "#### Cuántos vinieron por la Red Social Tik-Tok a la campaña Electricidad Automotriz?"
   ]
  },
  {
   "cell_type": "code",
   "execution_count": 109,
   "id": "2098412a",
   "metadata": {},
   "outputs": [
    {
     "name": "stdout",
     "output_type": "stream",
     "text": [
      "(3, 14)\n"
     ]
    },
    {
     "data": {
      "text/html": [
       "<div>\n",
       "<style scoped>\n",
       "    .dataframe tbody tr th:only-of-type {\n",
       "        vertical-align: middle;\n",
       "    }\n",
       "\n",
       "    .dataframe tbody tr th {\n",
       "        vertical-align: top;\n",
       "    }\n",
       "\n",
       "    .dataframe thead th {\n",
       "        text-align: right;\n",
       "    }\n",
       "</style>\n",
       "<table border=\"1\" class=\"dataframe\">\n",
       "  <thead>\n",
       "    <tr style=\"text-align: right;\">\n",
       "      <th></th>\n",
       "      <th>Campaña</th>\n",
       "      <th>Seguimiento Cliente</th>\n",
       "      <th>Teléfono</th>\n",
       "      <th>RR.SS</th>\n",
       "      <th>Estado</th>\n",
       "      <th>Fecha_solicitud</th>\n",
       "      <th>Fecha_seguimiento</th>\n",
       "      <th>Último seguim.</th>\n",
       "      <th>Motivo curso</th>\n",
       "      <th>Motivo no seguir</th>\n",
       "      <th>Prox.Llamad</th>\n",
       "      <th>ubicacion</th>\n",
       "      <th>trabajaenarea</th>\n",
       "      <th>Cuánto</th>\n",
       "    </tr>\n",
       "  </thead>\n",
       "  <tbody>\n",
       "    <tr>\n",
       "      <th>61</th>\n",
       "      <td>EAutomotriz</td>\n",
       "      <td>Jacinto Semblantes</td>\n",
       "      <td>+593992652535</td>\n",
       "      <td>TikTok</td>\n",
       "      <td>EnContacto</td>\n",
       "      <td>2023-06-26</td>\n",
       "      <td>2023-07-04</td>\n",
       "      <td>no contesta</td>\n",
       "      <td>Desconocido</td>\n",
       "      <td>Desconocido</td>\n",
       "      <td>Desconocido</td>\n",
       "      <td>Indefinido</td>\n",
       "      <td>No</td>\n",
       "      <td>1</td>\n",
       "    </tr>\n",
       "    <tr>\n",
       "      <th>66</th>\n",
       "      <td>EAutomotriz</td>\n",
       "      <td>Luis Maiguashca</td>\n",
       "      <td>+593984643966</td>\n",
       "      <td>TikTok</td>\n",
       "      <td>ProximaOcasion</td>\n",
       "      <td>2023-06-26</td>\n",
       "      <td>2023-07-04</td>\n",
       "      <td>trabajo los sabados y no puede</td>\n",
       "      <td>Desconocido</td>\n",
       "      <td>Desconocido</td>\n",
       "      <td>Desconocido</td>\n",
       "      <td>Indefinido</td>\n",
       "      <td>No</td>\n",
       "      <td>1</td>\n",
       "    </tr>\n",
       "    <tr>\n",
       "      <th>68</th>\n",
       "      <td>EAutomotriz</td>\n",
       "      <td>Cristian</td>\n",
       "      <td>+593987355327</td>\n",
       "      <td>TikTok</td>\n",
       "      <td>ProximaOcasion</td>\n",
       "      <td>2023-06-27</td>\n",
       "      <td>2023-07-04</td>\n",
       "      <td>no tiene dinero</td>\n",
       "      <td>Desconocido</td>\n",
       "      <td>Desconocido</td>\n",
       "      <td>Desconocido</td>\n",
       "      <td>Indefinido</td>\n",
       "      <td>No</td>\n",
       "      <td>1</td>\n",
       "    </tr>\n",
       "  </tbody>\n",
       "</table>\n",
       "</div>"
      ],
      "text/plain": [
       "        Campaña Seguimiento Cliente       Teléfono   RR.SS          Estado  \\\n",
       "61  EAutomotriz  Jacinto Semblantes  +593992652535  TikTok      EnContacto   \n",
       "66  EAutomotriz     Luis Maiguashca  +593984643966  TikTok  ProximaOcasion   \n",
       "68  EAutomotriz            Cristian  +593987355327  TikTok  ProximaOcasion   \n",
       "\n",
       "   Fecha_solicitud Fecha_seguimiento                  Último seguim.  \\\n",
       "61      2023-06-26        2023-07-04                     no contesta   \n",
       "66      2023-06-26        2023-07-04  trabajo los sabados y no puede   \n",
       "68      2023-06-27        2023-07-04                 no tiene dinero   \n",
       "\n",
       "   Motivo curso Motivo no seguir  Prox.Llamad   ubicacion trabajaenarea  \\\n",
       "61  Desconocido      Desconocido  Desconocido  Indefinido            No   \n",
       "66  Desconocido      Desconocido  Desconocido  Indefinido            No   \n",
       "68  Desconocido      Desconocido  Desconocido  Indefinido            No   \n",
       "\n",
       "    Cuánto  \n",
       "61       1  \n",
       "66       1  \n",
       "68       1  "
      ]
     },
     "execution_count": 109,
     "metadata": {},
     "output_type": "execute_result"
    }
   ],
   "source": [
    "df_tt=df[(df['Campaña']=='EAutomotriz') & (df['RR.SS']=='TikTok')]\n",
    "print(df_tt.shape)\n",
    "df_tt"
   ]
  },
  {
   "cell_type": "markdown",
   "id": "360f6cfa",
   "metadata": {},
   "source": [
    "# Facebook metrics"
   ]
  },
  {
   "cell_type": "code",
   "execution_count": 110,
   "id": "d57b29e1",
   "metadata": {},
   "outputs": [],
   "source": [
    "df2=pd.read_csv('metrics_facebook_junio.csv')"
   ]
  },
  {
   "cell_type": "code",
   "execution_count": 111,
   "id": "3547bfb2",
   "metadata": {
    "scrolled": true
   },
   "outputs": [
    {
     "data": {
      "text/html": [
       "<div>\n",
       "<style scoped>\n",
       "    .dataframe tbody tr th:only-of-type {\n",
       "        vertical-align: middle;\n",
       "    }\n",
       "\n",
       "    .dataframe tbody tr th {\n",
       "        vertical-align: top;\n",
       "    }\n",
       "\n",
       "    .dataframe thead th {\n",
       "        text-align: right;\n",
       "    }\n",
       "</style>\n",
       "<table border=\"1\" class=\"dataframe\">\n",
       "  <thead>\n",
       "    <tr style=\"text-align: right;\">\n",
       "      <th></th>\n",
       "      <th>curs_nombre</th>\n",
       "      <th>campr_id</th>\n",
       "      <th>rcam_anio</th>\n",
       "      <th>rcam_mes</th>\n",
       "      <th>campr_nombre</th>\n",
       "      <th>camp_descripcion</th>\n",
       "      <th>camp_tipo</th>\n",
       "      <th>camp_costo</th>\n",
       "      <th>camp_fecha_desde</th>\n",
       "      <th>rcam_impresiones</th>\n",
       "      <th>...</th>\n",
       "      <th>total_abandonados</th>\n",
       "      <th>total_matriculados</th>\n",
       "      <th>rcam_clics_enlace</th>\n",
       "      <th>rcam_ctr</th>\n",
       "      <th>rcam_costo_cpc</th>\n",
       "      <th>rcam_costo_por_resultado</th>\n",
       "      <th>rcam_reacciones</th>\n",
       "      <th>rcam_frecuencia</th>\n",
       "      <th>rcam_gasto</th>\n",
       "      <th>rcam_comentarios</th>\n",
       "    </tr>\n",
       "  </thead>\n",
       "  <tbody>\n",
       "    <tr>\n",
       "      <th>6</th>\n",
       "      <td>Electricidad Automotriz</td>\n",
       "      <td>23855050874090366</td>\n",
       "      <td>2023</td>\n",
       "      <td>6</td>\n",
       "      <td>[20/06/2023] Promoción de http://bit.ly/3X2snzK</td>\n",
       "      <td>Electricidad Automotriz Julio 2023</td>\n",
       "      <td>INFOGRAFIA</td>\n",
       "      <td>18</td>\n",
       "      <td>2023-06-20 00:00:00</td>\n",
       "      <td>11705</td>\n",
       "      <td>...</td>\n",
       "      <td>1</td>\n",
       "      <td>1</td>\n",
       "      <td>83</td>\n",
       "      <td>1.187527</td>\n",
       "      <td>0.022518</td>\n",
       "      <td>0.037711</td>\n",
       "      <td>4</td>\n",
       "      <td>1.451513</td>\n",
       "      <td>3.13</td>\n",
       "      <td>0</td>\n",
       "    </tr>\n",
       "    <tr>\n",
       "      <th>10</th>\n",
       "      <td>Electricidad Automotriz</td>\n",
       "      <td>23855050874090366</td>\n",
       "      <td>2023</td>\n",
       "      <td>6</td>\n",
       "      <td>[20/06/2023] Promoción de http://bit.ly/3X2snzK</td>\n",
       "      <td>Electricidad Automotriz Julio 2023</td>\n",
       "      <td>INFOGRAFIA</td>\n",
       "      <td>18</td>\n",
       "      <td>2023-06-20 00:00:00</td>\n",
       "      <td>19</td>\n",
       "      <td>...</td>\n",
       "      <td>1</td>\n",
       "      <td>1</td>\n",
       "      <td>0</td>\n",
       "      <td>0.000000</td>\n",
       "      <td>0.000000</td>\n",
       "      <td>0.000000</td>\n",
       "      <td>0</td>\n",
       "      <td>2.375000</td>\n",
       "      <td>0.01</td>\n",
       "      <td>0</td>\n",
       "    </tr>\n",
       "    <tr>\n",
       "      <th>2</th>\n",
       "      <td>Electricidad Automotriz</td>\n",
       "      <td>23855050874090366</td>\n",
       "      <td>2023</td>\n",
       "      <td>6</td>\n",
       "      <td>[20/06/2023] Promoción de http://bit.ly/3X2snzK</td>\n",
       "      <td>Electricidad Automotriz Julio 2023</td>\n",
       "      <td>INFOGRAFIA</td>\n",
       "      <td>18</td>\n",
       "      <td>2023-06-20 00:00:00</td>\n",
       "      <td>10222</td>\n",
       "      <td>...</td>\n",
       "      <td>1</td>\n",
       "      <td>1</td>\n",
       "      <td>65</td>\n",
       "      <td>1.144590</td>\n",
       "      <td>0.022479</td>\n",
       "      <td>0.040462</td>\n",
       "      <td>5</td>\n",
       "      <td>1.399507</td>\n",
       "      <td>2.63</td>\n",
       "      <td>0</td>\n",
       "    </tr>\n",
       "    <tr>\n",
       "      <th>8</th>\n",
       "      <td>Electricidad Automotriz</td>\n",
       "      <td>23855050874090366</td>\n",
       "      <td>2023</td>\n",
       "      <td>6</td>\n",
       "      <td>[20/06/2023] Promoción de http://bit.ly/3X2snzK</td>\n",
       "      <td>Electricidad Automotriz Julio 2023</td>\n",
       "      <td>INFOGRAFIA</td>\n",
       "      <td>18</td>\n",
       "      <td>2023-06-20 00:00:00</td>\n",
       "      <td>1212</td>\n",
       "      <td>...</td>\n",
       "      <td>1</td>\n",
       "      <td>1</td>\n",
       "      <td>10</td>\n",
       "      <td>1.402640</td>\n",
       "      <td>0.024118</td>\n",
       "      <td>0.041000</td>\n",
       "      <td>0</td>\n",
       "      <td>1.364865</td>\n",
       "      <td>0.41</td>\n",
       "      <td>0</td>\n",
       "    </tr>\n",
       "    <tr>\n",
       "      <th>12</th>\n",
       "      <td>Taller paneles solares</td>\n",
       "      <td>23855073451200366</td>\n",
       "      <td>2023</td>\n",
       "      <td>6</td>\n",
       "      <td>Publicación: \"ÚNETE A LA REVOLUCIÓN ENERGÉTICA! \"</td>\n",
       "      <td>Paneles Solares Taller julio 2023</td>\n",
       "      <td>INFOGRAFIA</td>\n",
       "      <td>15</td>\n",
       "      <td>2023-06-20 00:00:00</td>\n",
       "      <td>3</td>\n",
       "      <td>...</td>\n",
       "      <td>0</td>\n",
       "      <td>0</td>\n",
       "      <td>0</td>\n",
       "      <td>0.000000</td>\n",
       "      <td>0.000000</td>\n",
       "      <td>0.000000</td>\n",
       "      <td>0</td>\n",
       "      <td>1.500000</td>\n",
       "      <td>0.00</td>\n",
       "      <td>0</td>\n",
       "    </tr>\n",
       "    <tr>\n",
       "      <th>21</th>\n",
       "      <td>Taller paneles solares</td>\n",
       "      <td>23855073451200366</td>\n",
       "      <td>2023</td>\n",
       "      <td>6</td>\n",
       "      <td>Publicación: \"ÚNETE A LA REVOLUCIÓN ENERGÉTICA! \"</td>\n",
       "      <td>Paneles Solares Taller julio 2023</td>\n",
       "      <td>INFOGRAFIA</td>\n",
       "      <td>15</td>\n",
       "      <td>2023-06-20 00:00:00</td>\n",
       "      <td>88</td>\n",
       "      <td>...</td>\n",
       "      <td>0</td>\n",
       "      <td>0</td>\n",
       "      <td>0</td>\n",
       "      <td>0.000000</td>\n",
       "      <td>0.000000</td>\n",
       "      <td>0.000000</td>\n",
       "      <td>0</td>\n",
       "      <td>1.157895</td>\n",
       "      <td>0.23</td>\n",
       "      <td>0</td>\n",
       "    </tr>\n",
       "  </tbody>\n",
       "</table>\n",
       "<p>6 rows × 22 columns</p>\n",
       "</div>"
      ],
      "text/plain": [
       "                curs_nombre           campr_id  rcam_anio  rcam_mes  \\\n",
       "6   Electricidad Automotriz  23855050874090366       2023         6   \n",
       "10  Electricidad Automotriz  23855050874090366       2023         6   \n",
       "2   Electricidad Automotriz  23855050874090366       2023         6   \n",
       "8   Electricidad Automotriz  23855050874090366       2023         6   \n",
       "12   Taller paneles solares  23855073451200366       2023         6   \n",
       "21   Taller paneles solares  23855073451200366       2023         6   \n",
       "\n",
       "                                         campr_nombre  \\\n",
       "6     [20/06/2023] Promoción de http://bit.ly/3X2snzK   \n",
       "10    [20/06/2023] Promoción de http://bit.ly/3X2snzK   \n",
       "2     [20/06/2023] Promoción de http://bit.ly/3X2snzK   \n",
       "8     [20/06/2023] Promoción de http://bit.ly/3X2snzK   \n",
       "12  Publicación: \"ÚNETE A LA REVOLUCIÓN ENERGÉTICA! \"   \n",
       "21  Publicación: \"ÚNETE A LA REVOLUCIÓN ENERGÉTICA! \"   \n",
       "\n",
       "                      camp_descripcion   camp_tipo  camp_costo  \\\n",
       "6   Electricidad Automotriz Julio 2023  INFOGRAFIA          18   \n",
       "10  Electricidad Automotriz Julio 2023  INFOGRAFIA          18   \n",
       "2   Electricidad Automotriz Julio 2023  INFOGRAFIA          18   \n",
       "8   Electricidad Automotriz Julio 2023  INFOGRAFIA          18   \n",
       "12   Paneles Solares Taller julio 2023  INFOGRAFIA          15   \n",
       "21   Paneles Solares Taller julio 2023  INFOGRAFIA          15   \n",
       "\n",
       "       camp_fecha_desde  rcam_impresiones  ...  total_abandonados  \\\n",
       "6   2023-06-20 00:00:00             11705  ...                  1   \n",
       "10  2023-06-20 00:00:00                19  ...                  1   \n",
       "2   2023-06-20 00:00:00             10222  ...                  1   \n",
       "8   2023-06-20 00:00:00              1212  ...                  1   \n",
       "12  2023-06-20 00:00:00                 3  ...                  0   \n",
       "21  2023-06-20 00:00:00                88  ...                  0   \n",
       "\n",
       "    total_matriculados  rcam_clics_enlace  rcam_ctr  rcam_costo_cpc  \\\n",
       "6                    1                 83  1.187527        0.022518   \n",
       "10                   1                  0  0.000000        0.000000   \n",
       "2                    1                 65  1.144590        0.022479   \n",
       "8                    1                 10  1.402640        0.024118   \n",
       "12                   0                  0  0.000000        0.000000   \n",
       "21                   0                  0  0.000000        0.000000   \n",
       "\n",
       "    rcam_costo_por_resultado  rcam_reacciones  rcam_frecuencia  rcam_gasto  \\\n",
       "6                   0.037711                4         1.451513        3.13   \n",
       "10                  0.000000                0         2.375000        0.01   \n",
       "2                   0.040462                5         1.399507        2.63   \n",
       "8                   0.041000                0         1.364865        0.41   \n",
       "12                  0.000000                0         1.500000        0.00   \n",
       "21                  0.000000                0         1.157895        0.23   \n",
       "\n",
       "    rcam_comentarios  \n",
       "6                  0  \n",
       "10                 0  \n",
       "2                  0  \n",
       "8                  0  \n",
       "12                 0  \n",
       "21                 0  \n",
       "\n",
       "[6 rows x 22 columns]"
      ]
     },
     "execution_count": 111,
     "metadata": {},
     "output_type": "execute_result"
    }
   ],
   "source": [
    "df2.sample(6)"
   ]
  },
  {
   "cell_type": "code",
   "execution_count": 112,
   "id": "87fb6347",
   "metadata": {
    "scrolled": true
   },
   "outputs": [
    {
     "name": "stdout",
     "output_type": "stream",
     "text": [
      "(12, 22)\n",
      "(12, 22)\n"
     ]
    }
   ],
   "source": [
    "df2_EA = df2[df2['camp_descripcion'] == 'Electricidad Automotriz Julio 2023']\n",
    "df2_PS = df2[df2['camp_descripcion'] == 'Paneles Solares Taller julio 2023']\n",
    "print(df2_EA.shape)\n",
    "print(df2_PS.shape)"
   ]
  },
  {
   "cell_type": "code",
   "execution_count": 113,
   "id": "6b3f827f",
   "metadata": {},
   "outputs": [
    {
     "data": {
      "text/html": [
       "<div>\n",
       "<style scoped>\n",
       "    .dataframe tbody tr th:only-of-type {\n",
       "        vertical-align: middle;\n",
       "    }\n",
       "\n",
       "    .dataframe tbody tr th {\n",
       "        vertical-align: top;\n",
       "    }\n",
       "\n",
       "    .dataframe thead th {\n",
       "        text-align: right;\n",
       "    }\n",
       "</style>\n",
       "<table border=\"1\" class=\"dataframe\">\n",
       "  <thead>\n",
       "    <tr style=\"text-align: right;\">\n",
       "      <th></th>\n",
       "      <th>campr_id</th>\n",
       "      <th>rcam_anio</th>\n",
       "      <th>rcam_mes</th>\n",
       "      <th>camp_costo</th>\n",
       "      <th>rcam_impresiones</th>\n",
       "      <th>rcam_alcance</th>\n",
       "      <th>total_enseguimiento</th>\n",
       "      <th>total_abandonados</th>\n",
       "      <th>total_matriculados</th>\n",
       "      <th>rcam_clics_enlace</th>\n",
       "      <th>rcam_ctr</th>\n",
       "      <th>rcam_costo_cpc</th>\n",
       "      <th>rcam_costo_por_resultado</th>\n",
       "      <th>rcam_reacciones</th>\n",
       "      <th>rcam_frecuencia</th>\n",
       "      <th>rcam_gasto</th>\n",
       "      <th>rcam_comentarios</th>\n",
       "    </tr>\n",
       "  </thead>\n",
       "  <tbody>\n",
       "    <tr>\n",
       "      <th>0</th>\n",
       "      <td>2.862606e+17</td>\n",
       "      <td>24276.0</td>\n",
       "      <td>72.0</td>\n",
       "      <td>216.0</td>\n",
       "      <td>46313.0</td>\n",
       "      <td>32192.0</td>\n",
       "      <td>396.0</td>\n",
       "      <td>12.0</td>\n",
       "      <td>12.0</td>\n",
       "      <td>363.0</td>\n",
       "      <td>68.621108</td>\n",
       "      <td>0.173103</td>\n",
       "      <td>0.486932</td>\n",
       "      <td>22.0</td>\n",
       "      <td>15.883181</td>\n",
       "      <td>14.02</td>\n",
       "      <td>0.0</td>\n",
       "    </tr>\n",
       "  </tbody>\n",
       "</table>\n",
       "</div>"
      ],
      "text/plain": [
       "       campr_id  rcam_anio  rcam_mes  camp_costo  rcam_impresiones  \\\n",
       "0  2.862606e+17    24276.0      72.0       216.0           46313.0   \n",
       "\n",
       "   rcam_alcance  total_enseguimiento  total_abandonados  total_matriculados  \\\n",
       "0       32192.0                396.0               12.0                12.0   \n",
       "\n",
       "   rcam_clics_enlace   rcam_ctr  rcam_costo_cpc  rcam_costo_por_resultado  \\\n",
       "0              363.0  68.621108        0.173103                  0.486932   \n",
       "\n",
       "   rcam_reacciones  rcam_frecuencia  rcam_gasto  rcam_comentarios  \n",
       "0             22.0        15.883181       14.02               0.0  "
      ]
     },
     "execution_count": 113,
     "metadata": {},
     "output_type": "execute_result"
    }
   ],
   "source": [
    "df2_EA=pd.DataFrame(data=df2_EA.sum(numeric_only=True).values.tolist(), #summation of all values of each column\n",
    "             index=df2_EA.sum(numeric_only=True).index.tolist()).T #extracting the name of each column\n",
    "df2_EA"
   ]
  },
  {
   "cell_type": "code",
   "execution_count": 114,
   "id": "acfaa9e6",
   "metadata": {
    "scrolled": true
   },
   "outputs": [
    {
     "data": {
      "text/html": [
       "<div>\n",
       "<style scoped>\n",
       "    .dataframe tbody tr th:only-of-type {\n",
       "        vertical-align: middle;\n",
       "    }\n",
       "\n",
       "    .dataframe tbody tr th {\n",
       "        vertical-align: top;\n",
       "    }\n",
       "\n",
       "    .dataframe thead th {\n",
       "        text-align: right;\n",
       "    }\n",
       "</style>\n",
       "<table border=\"1\" class=\"dataframe\">\n",
       "  <thead>\n",
       "    <tr style=\"text-align: right;\">\n",
       "      <th></th>\n",
       "      <th>campr_id</th>\n",
       "      <th>rcam_anio</th>\n",
       "      <th>rcam_mes</th>\n",
       "      <th>camp_costo</th>\n",
       "      <th>rcam_impresiones</th>\n",
       "      <th>rcam_alcance</th>\n",
       "      <th>total_enseguimiento</th>\n",
       "      <th>total_abandonados</th>\n",
       "      <th>total_matriculados</th>\n",
       "      <th>rcam_clics_enlace</th>\n",
       "      <th>rcam_ctr</th>\n",
       "      <th>rcam_costo_cpc</th>\n",
       "      <th>rcam_costo_por_resultado</th>\n",
       "      <th>rcam_reacciones</th>\n",
       "      <th>rcam_frecuencia</th>\n",
       "      <th>rcam_gasto</th>\n",
       "      <th>rcam_comentarios</th>\n",
       "    </tr>\n",
       "  </thead>\n",
       "  <tbody>\n",
       "    <tr>\n",
       "      <th>0</th>\n",
       "      <td>2.862609e+17</td>\n",
       "      <td>24276.0</td>\n",
       "      <td>72.0</td>\n",
       "      <td>180.0</td>\n",
       "      <td>10043.0</td>\n",
       "      <td>5850.0</td>\n",
       "      <td>384.0</td>\n",
       "      <td>0.0</td>\n",
       "      <td>0.0</td>\n",
       "      <td>46.0</td>\n",
       "      <td>17.188227</td>\n",
       "      <td>0.677066</td>\n",
       "      <td>0.0</td>\n",
       "      <td>23.0</td>\n",
       "      <td>18.386837</td>\n",
       "      <td>18.0</td>\n",
       "      <td>4.0</td>\n",
       "    </tr>\n",
       "  </tbody>\n",
       "</table>\n",
       "</div>"
      ],
      "text/plain": [
       "       campr_id  rcam_anio  rcam_mes  camp_costo  rcam_impresiones  \\\n",
       "0  2.862609e+17    24276.0      72.0       180.0           10043.0   \n",
       "\n",
       "   rcam_alcance  total_enseguimiento  total_abandonados  total_matriculados  \\\n",
       "0        5850.0                384.0                0.0                 0.0   \n",
       "\n",
       "   rcam_clics_enlace   rcam_ctr  rcam_costo_cpc  rcam_costo_por_resultado  \\\n",
       "0               46.0  17.188227        0.677066                       0.0   \n",
       "\n",
       "   rcam_reacciones  rcam_frecuencia  rcam_gasto  rcam_comentarios  \n",
       "0             23.0        18.386837        18.0               4.0  "
      ]
     },
     "execution_count": 114,
     "metadata": {},
     "output_type": "execute_result"
    }
   ],
   "source": [
    "df2_PS=pd.DataFrame(data=df2_PS.sum(numeric_only=True).values.tolist(), #summation of all values of each column\n",
    "             index=df2_PS.sum(numeric_only=True).index.tolist()).T #extracting the name of each column\n",
    "df2_PS"
   ]
  },
  {
   "cell_type": "code",
   "execution_count": 115,
   "id": "70b27015",
   "metadata": {},
   "outputs": [
    {
     "data": {
      "text/html": [
       "<div>\n",
       "<style scoped>\n",
       "    .dataframe tbody tr th:only-of-type {\n",
       "        vertical-align: middle;\n",
       "    }\n",
       "\n",
       "    .dataframe tbody tr th {\n",
       "        vertical-align: top;\n",
       "    }\n",
       "\n",
       "    .dataframe thead th {\n",
       "        text-align: right;\n",
       "    }\n",
       "</style>\n",
       "<table border=\"1\" class=\"dataframe\">\n",
       "  <thead>\n",
       "    <tr style=\"text-align: right;\">\n",
       "      <th></th>\n",
       "      <th>campr_id</th>\n",
       "      <th>rcam_anio</th>\n",
       "      <th>rcam_mes</th>\n",
       "      <th>camp_costo</th>\n",
       "      <th>rcam_impresiones</th>\n",
       "      <th>rcam_alcance</th>\n",
       "      <th>total_enseguimiento</th>\n",
       "      <th>total_abandonados</th>\n",
       "      <th>total_matriculados</th>\n",
       "      <th>rcam_clics_enlace</th>\n",
       "      <th>rcam_ctr</th>\n",
       "      <th>rcam_costo_cpc</th>\n",
       "      <th>rcam_costo_por_resultado</th>\n",
       "      <th>rcam_reacciones</th>\n",
       "      <th>rcam_frecuencia</th>\n",
       "      <th>rcam_gasto</th>\n",
       "      <th>rcam_comentarios</th>\n",
       "    </tr>\n",
       "  </thead>\n",
       "  <tbody>\n",
       "    <tr>\n",
       "      <th>0</th>\n",
       "      <td>2.862606e+17</td>\n",
       "      <td>24276.0</td>\n",
       "      <td>72.0</td>\n",
       "      <td>216.0</td>\n",
       "      <td>46313.0</td>\n",
       "      <td>32192.0</td>\n",
       "      <td>396.0</td>\n",
       "      <td>12.0</td>\n",
       "      <td>12.0</td>\n",
       "      <td>363.0</td>\n",
       "      <td>68.621108</td>\n",
       "      <td>0.173103</td>\n",
       "      <td>0.486932</td>\n",
       "      <td>22.0</td>\n",
       "      <td>15.883181</td>\n",
       "      <td>14.02</td>\n",
       "      <td>0.0</td>\n",
       "    </tr>\n",
       "    <tr>\n",
       "      <th>0</th>\n",
       "      <td>2.862609e+17</td>\n",
       "      <td>24276.0</td>\n",
       "      <td>72.0</td>\n",
       "      <td>180.0</td>\n",
       "      <td>10043.0</td>\n",
       "      <td>5850.0</td>\n",
       "      <td>384.0</td>\n",
       "      <td>0.0</td>\n",
       "      <td>0.0</td>\n",
       "      <td>46.0</td>\n",
       "      <td>17.188227</td>\n",
       "      <td>0.677066</td>\n",
       "      <td>0.000000</td>\n",
       "      <td>23.0</td>\n",
       "      <td>18.386837</td>\n",
       "      <td>18.00</td>\n",
       "      <td>4.0</td>\n",
       "    </tr>\n",
       "  </tbody>\n",
       "</table>\n",
       "</div>"
      ],
      "text/plain": [
       "       campr_id  rcam_anio  rcam_mes  camp_costo  rcam_impresiones  \\\n",
       "0  2.862606e+17    24276.0      72.0       216.0           46313.0   \n",
       "0  2.862609e+17    24276.0      72.0       180.0           10043.0   \n",
       "\n",
       "   rcam_alcance  total_enseguimiento  total_abandonados  total_matriculados  \\\n",
       "0       32192.0                396.0               12.0                12.0   \n",
       "0        5850.0                384.0                0.0                 0.0   \n",
       "\n",
       "   rcam_clics_enlace   rcam_ctr  rcam_costo_cpc  rcam_costo_por_resultado  \\\n",
       "0              363.0  68.621108        0.173103                  0.486932   \n",
       "0               46.0  17.188227        0.677066                  0.000000   \n",
       "\n",
       "   rcam_reacciones  rcam_frecuencia  rcam_gasto  rcam_comentarios  \n",
       "0             22.0        15.883181       14.02               0.0  \n",
       "0             23.0        18.386837       18.00               4.0  "
      ]
     },
     "execution_count": 115,
     "metadata": {},
     "output_type": "execute_result"
    }
   ],
   "source": [
    "df2_metrics=pd.concat([df2_EA, df2_PS])\n",
    "df2_metrics.head(2)"
   ]
  },
  {
   "cell_type": "code",
   "execution_count": 116,
   "id": "e397f454",
   "metadata": {},
   "outputs": [],
   "source": [
    "# create a writer object to write to Excel file\n",
    "writer = pd.ExcelWriter('metrics_facebook_junio_23.xlsx', engine='xlsxwriter')\n",
    "\n",
    "# write dataframes to separate sheets\n",
    "df2_metrics.to_excel(writer, sheet_name='métricas_EA') #Sheet de Electricidad Automotriz\n",
    "\n",
    "# save the file\n",
    "writer.save()"
   ]
  }
 ],
 "metadata": {
  "kernelspec": {
   "display_name": "Python 3 (ipykernel)",
   "language": "python",
   "name": "python3"
  },
  "language_info": {
   "codemirror_mode": {
    "name": "ipython",
    "version": 3
   },
   "file_extension": ".py",
   "mimetype": "text/x-python",
   "name": "python",
   "nbconvert_exporter": "python",
   "pygments_lexer": "ipython3",
   "version": "3.9.7"
  }
 },
 "nbformat": 4,
 "nbformat_minor": 5
}
